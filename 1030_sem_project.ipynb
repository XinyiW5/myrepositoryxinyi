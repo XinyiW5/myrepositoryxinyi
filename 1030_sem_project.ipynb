{
 "cells": [
  {
   "cell_type": "code",
   "execution_count": null,
   "id": "6db92063-6f3b-4bfa-b083-38fd7594823b",
   "metadata": {},
   "outputs": [],
   "source": [
    "#The MxMH dataset aims to identify what, if any, correlations exist between an individual's music taste and \n",
    "#their self-reported mental health. \n",
    "#Ideally, these findings could contribute to a more informed application of MT or \n",
    "#simply provide interesting sights about the mind.\n",
    "\n",
    "#1. What music features are most correlated to mental health?\n",
    "\n",
    "#2. Also, if we know certain types of music are related with good/bad mental health, we can apply that in the future mental health field,\n",
    "#such as providing certain music therapy, to better provide help to people with mental health problems."
   ]
  },
  {
   "cell_type": "code",
   "execution_count": 3,
   "id": "b8cfb7ce-68bb-4ee5-a38d-3f1aeba6248a",
   "metadata": {},
   "outputs": [
    {
     "data": {
      "text/html": [
       "<div>\n",
       "<style scoped>\n",
       "    .dataframe tbody tr th:only-of-type {\n",
       "        vertical-align: middle;\n",
       "    }\n",
       "\n",
       "    .dataframe tbody tr th {\n",
       "        vertical-align: top;\n",
       "    }\n",
       "\n",
       "    .dataframe thead th {\n",
       "        text-align: right;\n",
       "    }\n",
       "</style>\n",
       "<table border=\"1\" class=\"dataframe\">\n",
       "  <thead>\n",
       "    <tr style=\"text-align: right;\">\n",
       "      <th></th>\n",
       "      <th>Timestamp</th>\n",
       "      <th>Age</th>\n",
       "      <th>Primary streaming service</th>\n",
       "      <th>Hours per day</th>\n",
       "      <th>While working</th>\n",
       "      <th>Instrumentalist</th>\n",
       "      <th>Composer</th>\n",
       "      <th>Fav genre</th>\n",
       "      <th>Exploratory</th>\n",
       "      <th>Foreign languages</th>\n",
       "      <th>...</th>\n",
       "      <th>Frequency [Pop]</th>\n",
       "      <th>Frequency [R&amp;B]</th>\n",
       "      <th>Frequency [Rap]</th>\n",
       "      <th>Frequency [Rock]</th>\n",
       "      <th>Frequency [Video game music]</th>\n",
       "      <th>Anxiety</th>\n",
       "      <th>Depression</th>\n",
       "      <th>Insomnia</th>\n",
       "      <th>OCD</th>\n",
       "      <th>Music effects</th>\n",
       "    </tr>\n",
       "  </thead>\n",
       "  <tbody>\n",
       "    <tr>\n",
       "      <th>0</th>\n",
       "      <td>8/27/2022 19:29:02</td>\n",
       "      <td>18.0</td>\n",
       "      <td>Spotify</td>\n",
       "      <td>3.0</td>\n",
       "      <td>Yes</td>\n",
       "      <td>Yes</td>\n",
       "      <td>Yes</td>\n",
       "      <td>Latin</td>\n",
       "      <td>Yes</td>\n",
       "      <td>Yes</td>\n",
       "      <td>...</td>\n",
       "      <td>Very frequently</td>\n",
       "      <td>Sometimes</td>\n",
       "      <td>Very frequently</td>\n",
       "      <td>Never</td>\n",
       "      <td>Sometimes</td>\n",
       "      <td>3.0</td>\n",
       "      <td>0.0</td>\n",
       "      <td>1.0</td>\n",
       "      <td>0.0</td>\n",
       "      <td>NaN</td>\n",
       "    </tr>\n",
       "    <tr>\n",
       "      <th>1</th>\n",
       "      <td>8/27/2022 19:57:31</td>\n",
       "      <td>63.0</td>\n",
       "      <td>Pandora</td>\n",
       "      <td>1.5</td>\n",
       "      <td>Yes</td>\n",
       "      <td>No</td>\n",
       "      <td>No</td>\n",
       "      <td>Rock</td>\n",
       "      <td>Yes</td>\n",
       "      <td>No</td>\n",
       "      <td>...</td>\n",
       "      <td>Sometimes</td>\n",
       "      <td>Sometimes</td>\n",
       "      <td>Rarely</td>\n",
       "      <td>Very frequently</td>\n",
       "      <td>Rarely</td>\n",
       "      <td>7.0</td>\n",
       "      <td>2.0</td>\n",
       "      <td>2.0</td>\n",
       "      <td>1.0</td>\n",
       "      <td>NaN</td>\n",
       "    </tr>\n",
       "    <tr>\n",
       "      <th>2</th>\n",
       "      <td>8/27/2022 21:28:18</td>\n",
       "      <td>18.0</td>\n",
       "      <td>Spotify</td>\n",
       "      <td>4.0</td>\n",
       "      <td>No</td>\n",
       "      <td>No</td>\n",
       "      <td>No</td>\n",
       "      <td>Video game music</td>\n",
       "      <td>No</td>\n",
       "      <td>Yes</td>\n",
       "      <td>...</td>\n",
       "      <td>Rarely</td>\n",
       "      <td>Never</td>\n",
       "      <td>Rarely</td>\n",
       "      <td>Rarely</td>\n",
       "      <td>Very frequently</td>\n",
       "      <td>7.0</td>\n",
       "      <td>7.0</td>\n",
       "      <td>10.0</td>\n",
       "      <td>2.0</td>\n",
       "      <td>No effect</td>\n",
       "    </tr>\n",
       "    <tr>\n",
       "      <th>3</th>\n",
       "      <td>8/27/2022 21:40:40</td>\n",
       "      <td>61.0</td>\n",
       "      <td>YouTube Music</td>\n",
       "      <td>2.5</td>\n",
       "      <td>Yes</td>\n",
       "      <td>No</td>\n",
       "      <td>Yes</td>\n",
       "      <td>Jazz</td>\n",
       "      <td>Yes</td>\n",
       "      <td>Yes</td>\n",
       "      <td>...</td>\n",
       "      <td>Sometimes</td>\n",
       "      <td>Sometimes</td>\n",
       "      <td>Never</td>\n",
       "      <td>Never</td>\n",
       "      <td>Never</td>\n",
       "      <td>9.0</td>\n",
       "      <td>7.0</td>\n",
       "      <td>3.0</td>\n",
       "      <td>3.0</td>\n",
       "      <td>Improve</td>\n",
       "    </tr>\n",
       "    <tr>\n",
       "      <th>4</th>\n",
       "      <td>8/27/2022 21:54:47</td>\n",
       "      <td>18.0</td>\n",
       "      <td>Spotify</td>\n",
       "      <td>4.0</td>\n",
       "      <td>Yes</td>\n",
       "      <td>No</td>\n",
       "      <td>No</td>\n",
       "      <td>R&amp;B</td>\n",
       "      <td>Yes</td>\n",
       "      <td>No</td>\n",
       "      <td>...</td>\n",
       "      <td>Sometimes</td>\n",
       "      <td>Very frequently</td>\n",
       "      <td>Very frequently</td>\n",
       "      <td>Never</td>\n",
       "      <td>Rarely</td>\n",
       "      <td>7.0</td>\n",
       "      <td>2.0</td>\n",
       "      <td>5.0</td>\n",
       "      <td>9.0</td>\n",
       "      <td>Improve</td>\n",
       "    </tr>\n",
       "  </tbody>\n",
       "</table>\n",
       "<p>5 rows × 32 columns</p>\n",
       "</div>"
      ],
      "text/plain": [
       "            Timestamp   Age Primary streaming service  Hours per day  \\\n",
       "0  8/27/2022 19:29:02  18.0                   Spotify            3.0   \n",
       "1  8/27/2022 19:57:31  63.0                   Pandora            1.5   \n",
       "2  8/27/2022 21:28:18  18.0                   Spotify            4.0   \n",
       "3  8/27/2022 21:40:40  61.0             YouTube Music            2.5   \n",
       "4  8/27/2022 21:54:47  18.0                   Spotify            4.0   \n",
       "\n",
       "  While working Instrumentalist Composer         Fav genre Exploratory  \\\n",
       "0           Yes             Yes      Yes             Latin         Yes   \n",
       "1           Yes              No       No              Rock         Yes   \n",
       "2            No              No       No  Video game music          No   \n",
       "3           Yes              No      Yes              Jazz         Yes   \n",
       "4           Yes              No       No               R&B         Yes   \n",
       "\n",
       "  Foreign languages  ...  Frequency [Pop]  Frequency [R&B]  Frequency [Rap]  \\\n",
       "0               Yes  ...  Very frequently        Sometimes  Very frequently   \n",
       "1                No  ...        Sometimes        Sometimes           Rarely   \n",
       "2               Yes  ...           Rarely            Never           Rarely   \n",
       "3               Yes  ...        Sometimes        Sometimes            Never   \n",
       "4                No  ...        Sometimes  Very frequently  Very frequently   \n",
       "\n",
       "  Frequency [Rock] Frequency [Video game music] Anxiety Depression Insomnia  \\\n",
       "0            Never                    Sometimes     3.0        0.0      1.0   \n",
       "1  Very frequently                       Rarely     7.0        2.0      2.0   \n",
       "2           Rarely              Very frequently     7.0        7.0     10.0   \n",
       "3            Never                        Never     9.0        7.0      3.0   \n",
       "4            Never                       Rarely     7.0        2.0      5.0   \n",
       "\n",
       "   OCD Music effects  \n",
       "0  0.0           NaN  \n",
       "1  1.0           NaN  \n",
       "2  2.0     No effect  \n",
       "3  3.0       Improve  \n",
       "4  9.0       Improve  \n",
       "\n",
       "[5 rows x 32 columns]"
      ]
     },
     "execution_count": 3,
     "metadata": {},
     "output_type": "execute_result"
    }
   ],
   "source": [
    "import pandas as pd\n",
    "df = pd.read_csv('/Users/apple/Desktop/1030_sem_project/mxmh_survey_results.csv')\n",
    "df = df.drop('Permissions', axis = 1)\n",
    "df.head()"
   ]
  },
  {
   "cell_type": "markdown",
   "id": "78b54c93-3f65-41d5-b606-2d70f5d2a9ad",
   "metadata": {},
   "source": [
    "**Filter Rows**"
   ]
  },
  {
   "cell_type": "code",
   "execution_count": 4,
   "id": "9f479e14-5467-48f8-ad6a-c865ab05879d",
   "metadata": {},
   "outputs": [
    {
     "name": "stdout",
     "output_type": "stream",
     "text": [
      "542 people said music improve their mental health\n"
     ]
    }
   ],
   "source": [
    "#how many people said 'Music improve their mental health?'\n",
    "MentalHealthImprove = df[df['Music effects']== 'Improve'].shape[0]\n",
    "print(MentalHealthImprove, 'people said music improve their mental health')"
   ]
  },
  {
   "cell_type": "code",
   "execution_count": 5,
   "id": "2fa958a5-2e8e-44d5-94aa-11ba64462ca1",
   "metadata": {},
   "outputs": [
    {
     "name": "stdout",
     "output_type": "stream",
     "text": [
      "17 people said music worsen their mental health\n"
     ]
    }
   ],
   "source": [
    "#how many people said 'Music worsen their menal health?'\n",
    "MentalHealthWorsen = df[df['Music effects']== 'Worsen'].shape[0]\n",
    "print(MentalHealthWorsen, 'people said music worsen their mental health')"
   ]
  },
  {
   "cell_type": "code",
   "execution_count": 6,
   "id": "9820305c-37d6-4182-a9ed-7b183f5906ef",
   "metadata": {},
   "outputs": [
    {
     "name": "stdout",
     "output_type": "stream",
     "text": [
      "444 people constantly experience Anxiety\n"
     ]
    }
   ],
   "source": [
    "#how many people have a relatively bad mental health? >5 on 'Anxiety', 'Depression', 'Insomnia', 'OCD'\n",
    "AnxietyBad = df[df['Anxiety'] > 5].shape[0]\n",
    "print(AnxietyBad, 'people constantly experience Anxiety')"
   ]
  },
  {
   "cell_type": "code",
   "execution_count": 7,
   "id": "52c9740a-16a7-4ea5-90a8-501dbab39900",
   "metadata": {},
   "outputs": [
    {
     "name": "stdout",
     "output_type": "stream",
     "text": [
      "344 people constantly experience Depression\n"
     ]
    }
   ],
   "source": [
    "DepressionBad = df[df['Depression'] > 5].shape[0]\n",
    "print(DepressionBad, 'people constantly experience Depression')"
   ]
  },
  {
   "cell_type": "code",
   "execution_count": 8,
   "id": "677b4073-0dad-4da9-afc7-839164746684",
   "metadata": {},
   "outputs": [
    {
     "name": "stdout",
     "output_type": "stream",
     "text": [
      "231 people constantly experience Insomnia\n"
     ]
    }
   ],
   "source": [
    "InsomniaBad = df[df['Insomnia'] > 5].shape[0]\n",
    "print(InsomniaBad, 'people constantly experience Insomnia')"
   ]
  },
  {
   "cell_type": "code",
   "execution_count": 9,
   "id": "d04e09b9-9acf-40da-a911-357f36fb9aaf",
   "metadata": {},
   "outputs": [
    {
     "name": "stdout",
     "output_type": "stream",
     "text": [
      "131 people constantly experience OCD\n"
     ]
    }
   ],
   "source": [
    "OCDBad = df[df['OCD'] > 5].shape[0]\n",
    "print(OCDBad, 'people constantly experience OCD')"
   ]
  },
  {
   "cell_type": "markdown",
   "id": "91e53693-e88c-49d5-8c36-a1b35aff39b1",
   "metadata": {},
   "source": [
    "**EDA**"
   ]
  },
  {
   "cell_type": "code",
   "execution_count": 10,
   "id": "1ef320ad-89c7-4b64-86c3-d897f5fccc7b",
   "metadata": {},
   "outputs": [
    {
     "data": {
      "text/plain": [
       "(736, 32)"
      ]
     },
     "execution_count": 10,
     "metadata": {},
     "output_type": "execute_result"
    }
   ],
   "source": [
    "df.shape"
   ]
  },
  {
   "cell_type": "code",
   "execution_count": 11,
   "id": "b5307143-1d22-4b07-be69-3cb93ef06ba6",
   "metadata": {},
   "outputs": [
    {
     "data": {
      "text/plain": [
       "Timestamp                        object\n",
       "Age                             float64\n",
       "Primary streaming service        object\n",
       "Hours per day                   float64\n",
       "While working                    object\n",
       "Instrumentalist                  object\n",
       "Composer                         object\n",
       "Fav genre                        object\n",
       "Exploratory                      object\n",
       "Foreign languages                object\n",
       "BPM                             float64\n",
       "Frequency [Classical]            object\n",
       "Frequency [Country]              object\n",
       "Frequency [EDM]                  object\n",
       "Frequency [Folk]                 object\n",
       "Frequency [Gospel]               object\n",
       "Frequency [Hip hop]              object\n",
       "Frequency [Jazz]                 object\n",
       "Frequency [K pop]                object\n",
       "Frequency [Latin]                object\n",
       "Frequency [Lofi]                 object\n",
       "Frequency [Metal]                object\n",
       "Frequency [Pop]                  object\n",
       "Frequency [R&B]                  object\n",
       "Frequency [Rap]                  object\n",
       "Frequency [Rock]                 object\n",
       "Frequency [Video game music]     object\n",
       "Anxiety                         float64\n",
       "Depression                      float64\n",
       "Insomnia                        float64\n",
       "OCD                             float64\n",
       "Music effects                    object\n",
       "dtype: object"
      ]
     },
     "execution_count": 11,
     "metadata": {},
     "output_type": "execute_result"
    }
   ],
   "source": [
    "df.dtypes"
   ]
  },
  {
   "cell_type": "code",
   "execution_count": 12,
   "id": "058a6a80-7240-421b-8e0e-d223ba4809c3",
   "metadata": {},
   "outputs": [
    {
     "name": "stdout",
     "output_type": "stream",
     "text": [
      "count    736.000000\n",
      "mean       5.837636\n",
      "std        2.793054\n",
      "min        0.000000\n",
      "25%        4.000000\n",
      "50%        6.000000\n",
      "75%        8.000000\n",
      "max       10.000000\n",
      "Name: Anxiety, dtype: float64\n",
      "This column is categorical and ordinal\n"
     ]
    }
   ],
   "source": [
    "#Is this column continuous or categorical? Please use .describe or .value_counts to take a quick look at this feature. \n",
    "#I would set 'Anxiety' as the target variable, since from filtering the data, we can see 'Anxiety' has the most people below average \n",
    "#mental health\n",
    "print(df['Anxiety'].describe())\n",
    "print('This column is categorical and ordinal')"
   ]
  },
  {
   "cell_type": "code",
   "execution_count": 13,
   "id": "fd05fb7d-e71a-4e07-a496-67032ef7fbab",
   "metadata": {},
   "outputs": [
    {
     "data": {
      "text/plain": [
       "[1, 29, 35, 44, 56, 56, 59, 67, 69, 83, 115, 122]"
      ]
     },
     "execution_count": 13,
     "metadata": {},
     "output_type": "execute_result"
    }
   ],
   "source": [
    "sorted(df.value_counts(df['Anxiety']))"
   ]
  },
  {
   "cell_type": "code",
   "execution_count": 14,
   "id": "28ab33b9-05b4-40cf-9c51-17bd7f32d4de",
   "metadata": {},
   "outputs": [
    {
     "data": {
      "image/png": "[encoded data removed]",
      "text/plain": [
       "<Figure size 500x300 with 1 Axes>"
      ]
     },
     "metadata": {},
     "output_type": "display_data"
    }
   ],
   "source": [
    "#Visualize the target variable. Don't forget the axis labels and graph title. \n",
    "#Make sure to use appropriate arguments to best display the data.\n",
    "import matplotlib\n",
    "import numpy as np\n",
    "from matplotlib import pylab as plt\n",
    "\n",
    "plt.figure(figsize=(5,3))\n",
    "value_counts = pd.value_counts(df['Anxiety'])\n",
    "value_counts.sort_index().plot.bar()\n",
    "plt.ylabel('count')\n",
    "plt.xlabel('Anxiety')\n",
    "plt.title('Anxiety Distribution')\n",
    "plt.show()"
   ]
  },
  {
   "cell_type": "markdown",
   "id": "20553941-5702-4765-b19b-fac2dbed3d4a",
   "metadata": {},
   "source": [
    "We can see from the above that most people has a level of 7, which is not good"
   ]
  },
  {
   "cell_type": "code",
   "execution_count": 15,
   "id": "69d8420e-9e1c-4afd-8dc7-75fd46dba494",
   "metadata": {},
   "outputs": [
    {
     "data": {
      "image/png": "[encoded data removed]",
      "text/plain": [
       "<Figure size 640x480 with 1 Axes>"
      ]
     },
     "metadata": {},
     "output_type": "display_data"
    }
   ],
   "source": [
    "import numpy as np\n",
    "plt.hist(df['Age'], bins=30, color='mediumaquamarine')\n",
    "plt.ylabel('Frequency')\n",
    "plt.xlabel('Age')\n",
    "plt.title('Age Distribution')\n",
    "plt.show()"
   ]
  },
  {
   "cell_type": "markdown",
   "id": "c538d33c-1c00-4dce-9beb-aefcbf3bad39",
   "metadata": {},
   "source": [
    "We can see from the above plot that this dataset is mainly about people around 20s.\\\n",
    "So the results or conclusions we get might only be useful when applying to people in 20s.\\\n",
    "Another problem is that this may introduce age bias, i.e. influencing which music genres are most popular."
   ]
  },
  {
   "cell_type": "code",
   "execution_count": 16,
   "id": "1951c8cd-bc4c-4107-aff6-946d4ef16ad1",
   "metadata": {},
   "outputs": [
    {
     "data": {
      "text/plain": [
       "Fav genre\n",
       "Rock                188\n",
       "Pop                 114\n",
       "Metal                88\n",
       "Classical            53\n",
       "Video game music     44\n",
       "EDM                  37\n",
       "R&B                  35\n",
       "Hip hop              35\n",
       "Folk                 30\n",
       "K pop                26\n",
       "Country              25\n",
       "Rap                  22\n",
       "Jazz                 20\n",
       "Lofi                 10\n",
       "Gospel                6\n",
       "Latin                 3\n",
       "Name: count, dtype: int64"
      ]
     },
     "execution_count": 16,
     "metadata": {},
     "output_type": "execute_result"
    }
   ],
   "source": [
    "pd.value_counts(df['Fav genre'])"
   ]
  },
  {
   "cell_type": "code",
   "execution_count": 17,
   "id": "c288f6d9-1610-41b3-9caa-70fbe37a5a05",
   "metadata": {},
   "outputs": [
    {
     "name": "stderr",
     "output_type": "stream",
     "text": [
      "/Users/apple/opt/anaconda3/envs/data1030/lib/python3.11/site-packages/numpy/linalg/linalg.py:2139: RuntimeWarning: invalid value encountered in det\n",
      "  r = _umath_linalg.det(a, signature=signature)\n"
     ]
    },
    {
     "data": {
      "image/png": "[encoded data removed]",
      "text/plain": [
       "<Figure size 500x300 with 1 Axes>"
      ]
     },
     "metadata": {},
     "output_type": "display_data"
    }
   ],
   "source": [
    "#To see the genre and age relations from above conclusion\n",
    "#More Visualization plots here\n",
    "dataset = [df[df['Fav genre'] == 'Rock']['Age'].values,\n",
    "          df[df['Fav genre'] == 'Pop']['Age'].values,\n",
    "          df[df['Fav genre'] == 'Metal']['Age'].values,\n",
    "          df[df['Fav genre'] == 'Classical']['Age'].values,\n",
    "          df[df['Fav genre'] == 'Video game music']['Age'].values,\n",
    "          df[df['Fav genre'] == 'EDM']['Age'].values,\n",
    "          df[df['Fav genre'] == 'R&B']['Age'].values,\n",
    "          df[df['Fav genre'] == 'Hip hop']['Age'].values,\n",
    "          df[df['Fav genre'] == 'Folk']['Age'].values,\n",
    "          df[df['Fav genre'] == 'K pop']['Age'].values,\n",
    "          df[df['Fav genre'] == 'Country']['Age'].values,\n",
    "          df[df['Fav genre'] == 'Rap']['Age'].values,\n",
    "          df[df['Fav genre'] == 'Jazz']['Age'].values,\n",
    "          df[df['Fav genre'] == 'Lofi']['Age'].values,\n",
    "          df[df['Fav genre'] == 'Gospel']['Age'].values,\n",
    "          df[df['Fav genre'] == 'Latin']['Age'].values]\n",
    "\n",
    "plt.figure(figsize=(5,3))\n",
    "plt.violinplot(dataset = dataset)\n",
    "plt.xticks([1,2, 3,4,5,6,7,8,9,10,11,12,13,14,15,16], df['Fav genre'].unique(),rotation = 90)\n",
    "plt.xlabel('Fav genre')\n",
    "plt.ylabel('Age')\n",
    "plt.title('Violin plot of Age-Fav Genre Distribution')\n",
    "plt.show()"
   ]
  },
  {
   "cell_type": "code",
   "execution_count": 18,
   "id": "3e2faa5d-d8b6-4e68-9dbb-e16d9887beaa",
   "metadata": {},
   "outputs": [
    {
     "data": {
      "image/png": "[encoded data removed]",
      "text/plain": [
       "<Figure size 500x300 with 1 Axes>"
      ]
     },
     "metadata": {},
     "output_type": "display_data"
    }
   ],
   "source": [
    "#To see the relations between Age and Anxiety level\n",
    "#More Visualization plots here\n",
    "df[['Age','Anxiety']].boxplot(by='Anxiety',figsize=(5,3))\n",
    "plt.ylabel('age')\n",
    "plt.xlabel('Anxiety')\n",
    "plt.suptitle('')\n",
    "plt.title('Box Plot of Age - Anxiety Distribution')\n",
    "plt.show()"
   ]
  },
  {
   "cell_type": "code",
   "execution_count": 19,
   "id": "51d458a4-9fdc-4562-a06a-b738432c554a",
   "metadata": {},
   "outputs": [
    {
     "name": "stdout",
     "output_type": "stream",
     "text": [
      "Fav genre  Classical  Country  EDM  Folk  Gospel  Hip hop  Jazz  K pop  Latin  \\\n",
      "Anxiety                                                                         \n",
      "0.0              6.0      2.0  5.0   2.0     NaN      NaN   1.0    1.0    1.0   \n",
      "1.0              3.0      2.0  2.0   NaN     1.0      NaN   NaN    NaN    NaN   \n",
      "2.0              4.0      2.0  2.0   NaN     NaN      3.0   2.0    1.0    NaN   \n",
      "3.0              5.0      1.0  1.0   2.0     2.0      5.0   3.0    1.0    1.0   \n",
      "4.0              5.0      2.0  4.0   3.0     NaN      1.0   NaN    5.0    NaN   \n",
      "5.0              3.0      2.0  3.0   NaN     NaN      3.0   1.0    2.0    NaN   \n",
      "6.0              5.0      1.0  4.0   5.0     2.0      4.0   3.0    2.0    NaN   \n",
      "7.0             11.0      5.0  3.0   3.0     NaN      8.0   3.0    5.0    NaN   \n",
      "7.5              NaN      NaN  NaN   NaN     NaN      NaN   NaN    NaN    NaN   \n",
      "8.0              8.0      5.0  4.0   9.0     NaN      6.0   3.0    5.0    NaN   \n",
      "9.0              3.0      3.0  4.0   4.0     NaN      1.0   3.0    NaN    NaN   \n",
      "10.0             NaN      NaN  5.0   2.0     1.0      4.0   1.0    4.0    1.0   \n",
      "\n",
      "Fav genre  Lofi  Metal   Pop  R&B  Rap  Rock  Video game music  \n",
      "Anxiety                                                         \n",
      "0.0         NaN    4.0   2.0  NaN  1.0   9.0               1.0  \n",
      "1.0         NaN    8.0   3.0  2.0  1.0   7.0               NaN  \n",
      "2.0         NaN    3.0   5.0  5.0  2.0  14.0               1.0  \n",
      "3.0         2.0    7.0  11.0  7.0  4.0  12.0               5.0  \n",
      "4.0         1.0    6.0   5.0  2.0  3.0  10.0               9.0  \n",
      "5.0         NaN   10.0  12.0  3.0  1.0  15.0               4.0  \n",
      "6.0         1.0    9.0  22.0  3.0  1.0  15.0               6.0  \n",
      "7.0         4.0   12.0  22.0  5.0  5.0  31.0               5.0  \n",
      "7.5         NaN    NaN   1.0  NaN  NaN   NaN               NaN  \n",
      "8.0         1.0   11.0  14.0  3.0  1.0  38.0               7.0  \n",
      "9.0         1.0    8.0   9.0  2.0  1.0  16.0               1.0  \n",
      "10.0        NaN   10.0   8.0  3.0  2.0  21.0               5.0  \n",
      "Fav genre  Classical   Country       EDM      Folk    Gospel   Hip hop  \\\n",
      "Anxiety                                                                  \n",
      "0.0         0.171429  0.057143  0.142857  0.057143       NaN       NaN   \n",
      "1.0         0.103448  0.068966  0.068966       NaN  0.034483       NaN   \n",
      "2.0         0.090909  0.045455  0.045455       NaN       NaN  0.068182   \n",
      "3.0         0.072464  0.014493  0.014493  0.028986  0.028986  0.072464   \n",
      "4.0         0.089286  0.035714  0.071429  0.053571       NaN  0.017857   \n",
      "5.0         0.050847  0.033898  0.050847       NaN       NaN  0.050847   \n",
      "6.0         0.060241  0.012048  0.048193  0.060241  0.024096  0.048193   \n",
      "7.0         0.090164  0.040984  0.024590  0.024590       NaN  0.065574   \n",
      "7.5              NaN       NaN       NaN       NaN       NaN       NaN   \n",
      "8.0         0.069565  0.043478  0.034783  0.078261       NaN  0.052174   \n",
      "9.0         0.053571  0.053571  0.071429  0.071429       NaN  0.017857   \n",
      "10.0             NaN       NaN  0.074627  0.029851  0.014925  0.059701   \n",
      "\n",
      "Fav genre      Jazz     K pop     Latin      Lofi     Metal       Pop  \\\n",
      "Anxiety                                                                 \n",
      "0.0        0.028571  0.028571  0.028571       NaN  0.114286  0.057143   \n",
      "1.0             NaN       NaN       NaN       NaN  0.275862  0.103448   \n",
      "2.0        0.045455  0.022727       NaN       NaN  0.068182  0.113636   \n",
      "3.0        0.043478  0.014493  0.014493  0.028986  0.101449  0.159420   \n",
      "4.0             NaN  0.089286       NaN  0.017857  0.107143  0.089286   \n",
      "5.0        0.016949  0.033898       NaN       NaN  0.169492  0.203390   \n",
      "6.0        0.036145  0.024096       NaN  0.012048  0.108434  0.265060   \n",
      "7.0        0.024590  0.040984       NaN  0.032787  0.098361  0.180328   \n",
      "7.5             NaN       NaN       NaN       NaN       NaN  1.000000   \n",
      "8.0        0.026087  0.043478       NaN  0.008696  0.095652  0.121739   \n",
      "9.0        0.053571       NaN       NaN  0.017857  0.142857  0.160714   \n",
      "10.0       0.014925  0.059701  0.014925       NaN  0.149254  0.119403   \n",
      "\n",
      "Fav genre       R&B       Rap      Rock  Video game music  \n",
      "Anxiety                                                    \n",
      "0.0             NaN  0.028571  0.257143          0.028571  \n",
      "1.0        0.068966  0.034483  0.241379               NaN  \n",
      "2.0        0.113636  0.045455  0.318182          0.022727  \n",
      "3.0        0.101449  0.057971  0.173913          0.072464  \n",
      "4.0        0.035714  0.053571  0.178571          0.160714  \n",
      "5.0        0.050847  0.016949  0.254237          0.067797  \n",
      "6.0        0.036145  0.012048  0.180723          0.072289  \n",
      "7.0        0.040984  0.040984  0.254098          0.040984  \n",
      "7.5             NaN       NaN       NaN               NaN  \n",
      "8.0        0.026087  0.008696  0.330435          0.060870  \n",
      "9.0        0.035714  0.017857  0.285714          0.017857  \n",
      "10.0       0.044776  0.029851  0.313433          0.074627  \n"
     ]
    }
   ],
   "source": [
    "#To see the relations between genre and Anxiety level - corresponding to my goal\n",
    "#More Visualization plots here\n",
    "count_matrix = df.groupby(['Anxiety', 'Fav genre']).size().unstack()\n",
    "print(count_matrix)\n",
    "\n",
    "count_matrix_norm = count_matrix.div(count_matrix.sum(axis=1),axis=0)\n",
    "print(count_matrix_norm)"
   ]
  },
  {
   "cell_type": "code",
   "execution_count": 20,
   "id": "9dde612d-37b2-439c-adcb-49073f67f9d7",
   "metadata": {},
   "outputs": [
    {
     "data": {
      "image/png": "[encoded data removed]",
      "text/plain": [
       "<Figure size 500x300 with 1 Axes>"
      ]
     },
     "metadata": {},
     "output_type": "display_data"
    }
   ],
   "source": [
    "count_matrix_norm.plot(kind='bar', stacked=True,figsize=(5,3))\n",
    "plt.ylabel('fraction of people in group')\n",
    "plt.title('Fav Genre - Anxiety Distribution')\n",
    "plt.legend(loc=4)\n",
    "plt.show()"
   ]
  },
  {
   "cell_type": "markdown",
   "id": "2784fcd0-fb78-464a-bd2d-95e348629297",
   "metadata": {},
   "source": [
    "**Splitting and preprocessing**"
   ]
  },
  {
   "cell_type": "code",
   "execution_count": 21,
   "id": "4ee21dee-8aa1-4529-b563-45f45cd588eb",
   "metadata": {},
   "outputs": [
    {
     "name": "stdout",
     "output_type": "stream",
     "text": [
      "(588, 31) (588,)\n",
      "test set: (148, 31) (148,)\n",
      "   training set: (470, 31) (470,)\n",
      "   validation set: (118, 31) (118,)\n",
      "   training set: (470, 31) (470,)\n",
      "   validation set: (118, 31) (118,)\n",
      "   training set: (470, 31) (470,)\n",
      "   validation set: (118, 31) (118,)\n",
      "   training set: (471, 31) (471,)\n",
      "   validation set: (117, 31) (117,)\n",
      "   training set: (471, 31) (471,)\n",
      "   validation set: (117, 31) (117,)\n"
     ]
    }
   ],
   "source": [
    "#Choose a way to split the data (basic/Kfold/stratified)\n",
    "from sklearn.model_selection import train_test_split \n",
    "from sklearn.model_selection import KFold\n",
    "\n",
    "y = df['Anxiety'] \n",
    "X = df.loc[:, df.columns != 'Anxiety']\n",
    "\n",
    "random_state =42\n",
    "# first split to separate out the test set\n",
    "X_other, X_test, y_other, y_test = train_test_split(X,y,test_size = 0.2,random_state=random_state)\n",
    "print(X_other.shape,y_other.shape)\n",
    "print('test set:',X_test.shape,y_test.shape)\n",
    "\n",
    "# do KFold split on other\n",
    "kf = KFold(n_splits=5,shuffle=True,random_state=random_state)\n",
    "for train_index, val_index in kf.split(X_other,y_other):\n",
    "    X_train = X_other.iloc[train_index]\n",
    "    y_train = y_other.iloc[train_index]\n",
    "    X_val = X_other.iloc[val_index]\n",
    "    y_val = y_other.iloc[val_index]\n",
    "    print('   training set:',X_train.shape, y_train.shape) \n",
    "    print('   validation set:',X_val.shape, y_val.shape) "
   ]
  },
  {
   "cell_type": "code",
   "execution_count": 32,
   "id": "04e81fdc-ef61-435b-b5b1-963d7a28fece",
   "metadata": {},
   "outputs": [
    {
     "data": {
      "text/plain": [
       "Insomnia\n",
       "0.0     149\n",
       "2.0      88\n",
       "1.0      82\n",
       "3.0      68\n",
       "6.0      62\n",
       "7.0      59\n",
       "4.0      59\n",
       "5.0      58\n",
       "8.0      49\n",
       "10.0     34\n",
       "9.0      27\n",
       "3.5       1\n",
       "Name: count, dtype: int64"
      ]
     },
     "execution_count": 32,
     "metadata": {},
     "output_type": "execute_result"
    }
   ],
   "source": [
    "pd.value_counts(df['Insomnia'])"
   ]
  },
  {
   "cell_type": "markdown",
   "id": "f3f3c941-01d8-4605-bcd6-bf42e5c0ba4a",
   "metadata": {},
   "source": [
    "**Missing Values**"
   ]
  },
  {
   "cell_type": "code",
   "execution_count": 69,
   "id": "502fdb9c-8e78-4f63-910e-7f848850eff8",
   "metadata": {},
   "outputs": [
    {
     "name": "stdout",
     "output_type": "stream",
     "text": [
      "data dimensions: (736, 32)\n",
      "fraction of missing values in features:\n",
      "Age                          0.001359\n",
      "Primary streaming service    0.001359\n",
      "While working                0.004076\n",
      "Instrumentalist              0.005435\n",
      "Composer                     0.001359\n",
      "Foreign languages            0.005435\n",
      "BPM                          0.145380\n",
      "Music effects                0.010870\n",
      "dtype: float64\n",
      "data types of the features with missing values:\n",
      "Age                          float64\n",
      "Primary streaming service     object\n",
      "While working                 object\n",
      "Instrumentalist               object\n",
      "Composer                      object\n",
      "Foreign languages             object\n",
      "BPM                          float64\n",
      "Music effects                 object\n",
      "dtype: object\n",
      "fraction of points with missing values: 0.16304347826086957\n"
     ]
    }
   ],
   "source": [
    "#Do we have missing values? \n",
    "#If you have missing values, describe the basic properties of the missing values\n",
    "#e.g., what fraction of the points have missing values, which features, what fraction of the features are missing, etc\n",
    "print('data dimensions:',df.shape)\n",
    "perc_missing_per_ftr = df.isnull().sum(axis=0)/df.shape[0]\n",
    "print('fraction of missing values in features:')\n",
    "print(perc_missing_per_ftr[perc_missing_per_ftr > 0])\n",
    "print('data types of the features with missing values:')\n",
    "print(df[perc_missing_per_ftr[perc_missing_per_ftr > 0].index].dtypes)\n",
    "frac_missing = sum(df.isnull().sum(axis=1)!=0)/df.shape[0]\n",
    "print('fraction of points with missing values:',frac_missing)"
   ]
  },
  {
   "cell_type": "code",
   "execution_count": 70,
   "id": "6ba5cd23-d405-4fe4-a7c5-418b75994a1e",
   "metadata": {},
   "outputs": [
    {
     "name": "stdout",
     "output_type": "stream",
     "text": [
      "(736, 32) (616, 32)\n"
     ]
    }
   ],
   "source": [
    "#Can we use dropping columns/rows/imputations to deal with missing values in this dataset?\n",
    "#Drop rows with missing value\n",
    "df_r = df.dropna()\n",
    "print(df.shape, df_r.shape)"
   ]
  },
  {
   "cell_type": "markdown",
   "id": "da72d699-e197-4277-8990-7b302d512fcd",
   "metadata": {},
   "source": [
    "No, we can't deal with missing values by droping rows with missing values, since it will drop too many rows."
   ]
  },
  {
   "cell_type": "code",
   "execution_count": 71,
   "id": "b82552f8-12f1-47ab-801f-8fafe437ef20",
   "metadata": {},
   "outputs": [
    {
     "name": "stdout",
     "output_type": "stream",
     "text": [
      "(736, 32) (736, 24)\n"
     ]
    }
   ],
   "source": [
    "# drop features with missing values\n",
    "df_c = df.dropna(axis=1)\n",
    "print(df.shape, df_c.shape)"
   ]
  },
  {
   "cell_type": "markdown",
   "id": "99514ab0-a31d-474c-bad7-8a7600181d5f",
   "metadata": {},
   "source": [
    "No, we can't deal with missing values by droping columns with missing values, since it will drop 8 columns."
   ]
  },
  {
   "cell_type": "markdown",
   "id": "0c883c3a-cd7d-40dd-8173-82ed944d1ff7",
   "metadata": {},
   "source": [
    "**Preprocess Data**\n",
    "- Deal with missing values for categorical values \n",
    "- Standardizatin for continuous values"
   ]
  },
  {
   "cell_type": "code",
   "execution_count": 79,
   "id": "41836318-75c3-4dcc-96ba-3a5d2cdadcc7",
   "metadata": {},
   "outputs": [
    {
     "name": "stdout",
     "output_type": "stream",
     "text": [
      "transformed train features:\n",
      "['Frequency [Classical]', 'Frequency [Country]', 'Frequency [EDM]', 'Frequency [Folk]', 'Frequency [Gospel]', 'Frequency [Hip hop]', 'Frequency [Jazz]', 'Frequency [K pop]', 'Frequency [Latin]', 'Frequency [Lofi]', 'Frequency [Metal]', 'Frequency [Pop]', 'Frequency [R&B]', 'Frequency [Rap]', 'Frequency [Rock]', 'Frequency [Video game music]', 'Depression', 'Insomnia', 'OCD']\n",
      "transformed validation features:\n",
      "['Frequency [Classical]', 'Frequency [Country]', 'Frequency [EDM]', 'Frequency [Folk]', 'Frequency [Gospel]', 'Frequency [Hip hop]', 'Frequency [Jazz]', 'Frequency [K pop]', 'Frequency [Latin]', 'Frequency [Lofi]', 'Frequency [Metal]', 'Frequency [Pop]', 'Frequency [R&B]', 'Frequency [Rap]', 'Frequency [Rock]', 'Frequency [Video game music]', 'Depression', 'Insomnia', 'OCD']\n",
      "transformed test features:\n",
      "[[ 2.  0.  1. ... 14.  2.  2.]\n",
      " [ 1.  1.  1. ... 12. 12.  2.]\n",
      " [ 0.  0.  0. ...  6.  2.  6.]\n",
      " ...\n",
      " [ 1.  0.  3. ...  4.  2. 10.]\n",
      " [ 3.  0.  2. ...  0.  8.  8.]\n",
      " [ 1.  0.  3. ...  4.  0.  0.]]\n"
     ]
    }
   ],
   "source": [
    "#Preprocess the data - what preprocessor I use? (encoder/scaler + fit_transform)\n",
    "from sklearn.preprocessing import OrdinalEncoder #Ordinal variable\n",
    "#help(OrdinalEncoder)\n",
    "\n",
    "# initialize the encoder\n",
    "Ordinal_ftr = ['Frequency [Classical]', 'Frequency [Country]', 'Frequency [EDM]', 'Frequency [Folk]', 'Frequency [Gospel]', \\\n",
    "               'Frequency [Hip hop]','Frequency [Jazz]', 'Frequency [K pop]', 'Frequency [Latin]', 'Frequency [Lofi]', \\\n",
    "               'Frequency [Metal]', 'Frequency [Pop]','Frequency [R&B]', 'Frequency [Rap]', 'Frequency [Rock]', \\\n",
    "               'Frequency [Video game music]', 'Depression', 'Insomnia','OCD']\n",
    "\n",
    "Ordinal_cats = [['Never','Rarely','Sometimes','Very frequently'],['Never','Rarely','Sometimes','Very frequently'],\\\n",
    "                ['Never','Rarely','Sometimes','Very frequently'],['Never','Rarely','Sometimes','Very frequently'],\\\n",
    "                ['Never','Rarely','Sometimes','Very frequently'],['Never','Rarely','Sometimes','Very frequently'],\\\n",
    "                ['Never','Rarely','Sometimes','Very frequently'],['Never','Rarely','Sometimes','Very frequently'],\\\n",
    "                ['Never','Rarely','Sometimes','Very frequently'],['Never','Rarely','Sometimes','Very frequently'],\\\n",
    "                ['Never','Rarely','Sometimes','Very frequently'],['Never','Rarely','Sometimes','Very frequently'],\\\n",
    "                ['Never','Rarely','Sometimes','Very frequently'],['Never','Rarely','Sometimes','Very frequently'],\\\n",
    "                ['Never','Rarely','Sometimes','Very frequently'],['Never','Rarely','Sometimes','Very frequently'],\\\n",
    "                [0,0.5,1,1.5,2,2.5,3,3.5,4,4.5,5,5.5,6,6.5,7,7.5,8,8.5,9,9.5,10],[0,0.5,1,1.5,2,2.5,3,3.5,4,4.5,5,5.5,6,6.5,7,7.5,8,8.5,9,9.5,10],[0,0.5,1,1.5,2,2.5,3,3.5,4,4.5,5,5.5,6,6.5,7,7.5,8,8.5,9,9.5,10]]\n",
    "# ordinal_cats must contain one list per ordinal feature! each list contains the ordered list of categories \n",
    "# of the corresponding feature\n",
    "\n",
    "enc_o = OrdinalEncoder(categories = Ordinal_cats)   # By default, the categories are alphabetically ordered\n",
    "                                                    # which is NOT what you want usually.\n",
    "\n",
    "# fit the training data\n",
    "enc_o.fit(X_train[Ordinal_ftr])  # the encoder expects a 2D array, that's why the column name is in a list\n",
    "\n",
    "# transform X_train. We could use enc.fit_transform(X_train) to combine fit and transform\n",
    "ordinal_train = enc_o.transform(X_train[Ordinal_ftr])\n",
    "print('transformed train features:')\n",
    "print(Ordinal_ftr)\n",
    "# transform X_val\n",
    "ordinal_val = enc_o.transform(X_val[Ordinal_ftr])\n",
    "print('transformed validation features:')\n",
    "print(Ordinal_ftr)\n",
    "# transform X_test\n",
    "ordinal_test = enc_o.transform(X_test[Ordinal_ftr])\n",
    "print('transformed test features:')\n",
    "print(ordinal_test)"
   ]
  },
  {
   "cell_type": "code",
   "execution_count": 80,
   "id": "a782066e-3ef3-407a-bad0-e4fdb6a1db80",
   "metadata": {},
   "outputs": [
    {
     "name": "stdout",
     "output_type": "stream",
     "text": [
      "feature names: ['Primary streaming service_Apple Music'\n",
      " 'Primary streaming service_I do not use a streaming service.'\n",
      " 'Primary streaming service_Other streaming service'\n",
      " 'Primary streaming service_Pandora' 'Primary streaming service_Spotify'\n",
      " 'Primary streaming service_YouTube Music' 'Primary streaming service_nan'\n",
      " 'While working_No' 'While working_Yes' 'While working_nan'\n",
      " 'Instrumentalist_No' 'Instrumentalist_Yes' 'Instrumentalist_nan'\n",
      " 'Composer_No' 'Composer_Yes' 'Composer_nan' 'Fav genre_Classical'\n",
      " 'Fav genre_Country' 'Fav genre_EDM' 'Fav genre_Folk' 'Fav genre_Gospel'\n",
      " 'Fav genre_Hip hop' 'Fav genre_Jazz' 'Fav genre_K pop' 'Fav genre_Latin'\n",
      " 'Fav genre_Lofi' 'Fav genre_Metal' 'Fav genre_Pop' 'Fav genre_R&B'\n",
      " 'Fav genre_Rap' 'Fav genre_Rock' 'Fav genre_Video game music'\n",
      " 'Exploratory_No' 'Exploratory_Yes' 'Foreign languages_No'\n",
      " 'Foreign languages_Yes' 'Foreign languages_nan' 'Music effects_Improve'\n",
      " 'Music effects_No effect' 'Music effects_Worsen' 'Music effects_nan']\n",
      "41\n"
     ]
    },
    {
     "name": "stderr",
     "output_type": "stream",
     "text": [
      "/Users/apple/opt/anaconda3/envs/data1030/lib/python3.11/site-packages/sklearn/preprocessing/_encoders.py:972: FutureWarning: `sparse` was renamed to `sparse_output` in version 1.2 and will be removed in 1.4. `sparse_output` is ignored unless you leave `sparse` to its default value.\n",
      "  warnings.warn(\n"
     ]
    }
   ],
   "source": [
    "from sklearn.preprocessing import OneHotEncoder #categorical feature\n",
    "# let's collect all categorical features first\n",
    "onehot_ftrs = ['Primary streaming service', 'While working', 'Instrumentalist', 'Composer', 'Fav genre', \\\n",
    "                   'Exploratory', 'Foreign languages', 'Music effects']\n",
    "# initialize the encoder\n",
    "enc = OneHotEncoder(sparse=False,handle_unknown='ignore') # by default, OneHotEncoder returns a sparse matrix. sparse=False returns a 2D array\n",
    "# fit the training data\n",
    "enc.fit(X_train[onehot_ftrs])\n",
    "print('feature names:',enc.get_feature_names_out(onehot_ftrs))\n",
    "print(len(enc.get_feature_names_out(onehot_ftrs)))"
   ]
  },
  {
   "cell_type": "code",
   "execution_count": 81,
   "id": "746c3a0f-c3d2-4e95-8f9f-d1664ccdde19",
   "metadata": {},
   "outputs": [
    {
     "name": "stdout",
     "output_type": "stream",
     "text": [
      "transformed train features:\n",
      "[[0. 0. 0. ... 0. 0. 0.]\n",
      " [0. 0. 0. ... 0. 0. 0.]\n",
      " [0. 0. 0. ... 0. 0. 0.]\n",
      " ...\n",
      " [0. 0. 0. ... 1. 0. 0.]\n",
      " [0. 0. 0. ... 1. 0. 0.]\n",
      " [1. 0. 0. ... 1. 0. 0.]]\n",
      "transformed val features:\n",
      "[[0. 0. 0. ... 0. 0. 0.]\n",
      " [0. 0. 0. ... 0. 0. 0.]\n",
      " [0. 0. 0. ... 0. 0. 0.]\n",
      " ...\n",
      " [0. 0. 0. ... 0. 0. 0.]\n",
      " [0. 0. 0. ... 0. 1. 0.]\n",
      " [0. 0. 0. ... 0. 0. 0.]]\n",
      "transformed test features:\n",
      "[[0. 0. 0. ... 1. 0. 0.]\n",
      " [0. 0. 0. ... 0. 0. 0.]\n",
      " [0. 0. 0. ... 0. 0. 0.]\n",
      " ...\n",
      " [0. 0. 0. ... 0. 0. 0.]\n",
      " [1. 0. 0. ... 1. 0. 0.]\n",
      " [0. 0. 0. ... 0. 0. 0.]]\n"
     ]
    }
   ],
   "source": [
    "# transform X_train\n",
    "onehot_train = enc.transform(X_train[onehot_ftrs])\n",
    "print('transformed train features:')\n",
    "print(onehot_train)\n",
    "# transform X_val\n",
    "onehot_val = enc.transform(X_val[onehot_ftrs])\n",
    "print('transformed val features:')\n",
    "print(onehot_val)\n",
    "# transform X_test\n",
    "onehot_test = enc.transform(X_test[onehot_ftrs])\n",
    "print('transformed test features:')\n",
    "print(onehot_test)"
   ]
  },
  {
   "cell_type": "code",
   "execution_count": 82,
   "id": "2e3a2048-c04b-4365-9c0b-7c86c8a520c3",
   "metadata": {},
   "outputs": [
    {
     "name": "stdout",
     "output_type": "stream",
     "text": [
      "[[-0.61011942 -0.52123343 -0.04969086]\n",
      " [-0.44611821 -0.20351511 -0.04969128]\n",
      " [-0.61011942 -0.68009258 -0.04968987]\n",
      " ...\n",
      " [ 1.27589458 -0.20351511 -0.04969061]\n",
      " [-0.85612125  0.74963984 -0.04969067]\n",
      " [-0.69212003  0.43192153 -0.04969019]]\n",
      "[[-0.61011942 -0.52123343 -0.04969015]\n",
      " [-0.61011942 -0.20351511 -0.04969156]\n",
      " [ 0.70189032 -0.52123343 -0.04969047]\n",
      " [ 0.04588545  0.74963984 -0.0496908 ]\n",
      " [-0.61011942  0.43192153 -0.04969027]\n",
      " [ 0.70189032  0.11420321 -0.04968965]\n",
      " [ 0.5378891  -0.52123343         nan]\n",
      " [-0.11811577 -0.20351511 -0.04969138]\n",
      " [-0.20011638 -0.52123343 -0.04969088]\n",
      " [-0.3641176  -0.52123343 -0.04968987]\n",
      " [-0.69212003  0.43192153 -0.04968926]\n",
      " [-0.28211699 -0.83895174 -0.04969071]\n",
      " [-0.20011638 -0.52123343 -0.04969011]\n",
      " [ 3.98191467 -0.83895174 -0.04969029]\n",
      " [-0.61011942 -0.20351511 -0.04969027]\n",
      " [-0.77412064  2.02051311 -0.04968926]\n",
      " [ 0.70189032 -0.83895174         nan]\n",
      " [-0.3641176  -0.20351511 -0.04968987]\n",
      " [ 1.19389397 -0.20351511 -0.04969047]\n",
      " [ 0.45588849 -0.83895174 -0.04969023]\n",
      " [-0.44611821  0.11420321 -0.04969118]\n",
      " [-0.77412064 -0.52123343 -0.04968977]\n",
      " [ 0.70189032 -0.20351511 -0.04969098]\n",
      " [-0.52811881  1.38507648 -0.04969037]\n",
      " [-0.69212003  0.11420321 -0.0496913 ]\n",
      " [-0.69212003 -0.52123343         nan]\n",
      " [-0.61011942 -0.9978109  -0.04969156]\n",
      " [ 0.04588545 -0.83895174         nan]\n",
      " [-0.61011942 -0.52123343 -0.04969027]\n",
      " [ 1.35789519 -0.52123343 -0.04969118]\n",
      " [ 0.61988971 -0.52123343 -0.04969019]\n",
      " [-0.52811881  0.43192153 -0.04969094]\n",
      " [-0.28211699 -0.83895174 -0.04969031]\n",
      " [-0.28211699  2.02051311 -0.04969031]\n",
      " [-0.61011942 -0.52123343 -0.04969108]\n",
      " [ 0.04588545 -0.83895174 -0.04969015]\n",
      " [ 2.50590371  0.74963984         nan]\n",
      " [ 1.93189945 -0.52123343 -0.04968993]\n",
      " [-0.61011942 -0.52123343 -0.04968987]\n",
      " [ 0.29188727 -0.52123343 -0.04969092]\n",
      " [-0.28211699  1.06735816 -0.04969063]\n",
      " [-0.20011638 -0.52123343 -0.04969069]\n",
      " [-0.44611821 -0.52123343         nan]\n",
      " [-0.11811577 -0.52123343 -0.04969102]\n",
      " [-1.02012247  0.11420321 -0.04969035]\n",
      " [-1.02012247 -0.83895174 -0.04969031]\n",
      " [-0.52811881  1.38507648 -0.04969069]\n",
      " [ 2.50590371 -0.83895174 -0.04969078]\n",
      " [-0.3641176  -0.9978109          nan]\n",
      " [-0.61011942  0.11420321 -0.04969027]\n",
      " [-0.3641176  -0.52123343 -0.04968946]\n",
      " [ 1.35789519 -1.15667006         nan]\n",
      " [-0.3641176  -0.83895174 -0.04969126]\n",
      " [-0.69212003 -0.52123343         nan]\n",
      " [-0.28211699  0.11420321 -0.04969005]\n",
      " [-0.44611821 -0.68009258         nan]\n",
      " [ 0.04588545 -0.20351511 -0.04969007]\n",
      " [-0.52811881  0.43192153 -0.0496896 ]\n",
      " [-0.3641176   0.11420321 -0.04969164]\n",
      " [ 0.12788606 -0.52123343 -0.04969088]\n",
      " [-0.93812186  2.65594975 -0.04969015]\n",
      " [-0.77412064 -0.52123343         nan]\n",
      " [-1.02012247  0.74963984 -0.04969063]\n",
      " [ 0.37388788 -0.83895174 -0.04968963]\n",
      " [ 1.93189945  1.38507648 -0.04969152]\n",
      " [-0.61011942 -0.83895174 -0.04969059]\n",
      " [ 1.93189945 -0.83895174 -0.04968975]\n",
      " [-0.61011942  0.11420321 -0.04968987]\n",
      " [-0.28211699  1.38507648 -0.04969067]\n",
      " [-0.3641176  -0.83895174         nan]\n",
      " [-0.93812186  0.43192153 -0.04969209]\n",
      " [ 1.02989275 -0.83895174 -0.04968904]\n",
      " [-0.28211699  0.43192153 -0.04969011]\n",
      " [-0.69212003 -0.20351511 -0.04969043]\n",
      " [-0.20011638 -0.52123343 -0.04969138]\n",
      " [-0.3641176  -0.20351511 -0.04969071]\n",
      " [-0.61011942 -0.20351511 -0.04969047]\n",
      " [-0.69212003 -0.52123343 -0.049691  ]\n",
      " [ 0.12788606 -0.83895174         nan]\n",
      " [-0.52811881 -0.83895174 -0.049691  ]\n",
      " [-0.3641176   0.11420321 -0.04969013]\n",
      " [ 0.37388788 -0.83895174 -0.04969057]\n",
      " [ 3.57191162  0.11420321 -0.04969144]\n",
      " [-0.61011942 -0.20351511 -0.0496911 ]\n",
      " [-0.20011638 -0.20351511         nan]\n",
      " [-0.3641176  -0.68009258 -0.04969078]\n",
      " [-0.93812186  1.06735816 -0.04969098]\n",
      " [ 0.20988666 -0.83895174 -0.04968993]\n",
      " [-0.11811577  1.38507648 -0.04969126]\n",
      " [ 0.12788606  1.38507648 -0.04969023]\n",
      " [-0.69212003  0.11420321 -0.04968999]\n",
      " [-0.77412064  0.11420321 -0.04969007]\n",
      " [-0.61011942  0.11420321 -0.04968948]\n",
      " [-0.61011942 -0.52123343 -0.04969094]\n",
      " [ 0.20988666  0.11420321 -0.0496893 ]\n",
      " [-0.61011942 -0.83895174 -0.04968956]\n",
      " [-0.61011942 -0.83895174 -0.04969078]\n",
      " [-0.61011942 -0.52123343 -0.0496908 ]\n",
      " [-0.11811577 -0.20351511 -0.04969057]\n",
      " [ 0.5378891  -0.20351511 -0.04969102]\n",
      " [-0.85612125 -0.20351511 -0.04968878]\n",
      " [-0.85612125 -0.52123343 -0.04968975]\n",
      " [ 0.20988666 -0.83895174 -0.04969144]\n",
      " [-0.69212003 -0.52123343         nan]\n",
      " [-0.20011638 -0.83895174 -0.04969007]\n",
      " [ 0.70189032 -0.52123343 -0.04969088]\n",
      " [-0.52811881  0.74963984 -0.04969047]\n",
      " [-0.61011942 -0.52123343 -0.04969043]\n",
      " [-0.61011942 -0.52123343         nan]\n",
      " [-0.69212003 -0.52123343 -0.04969102]\n",
      " [-0.77412064 -0.20351511 -0.04969063]\n",
      " [ 1.02989275 -0.20351511 -0.04969001]\n",
      " [ 0.29188727 -0.83895174 -0.04969067]\n",
      " [-0.61011942  0.11420321 -0.04969041]\n",
      " [-0.61011942 -0.52123343 -0.04969249]\n",
      " [-0.44611821 -0.83895174         nan]\n",
      " [-0.52811881  0.43192153 -0.04969005]]\n",
      "[[-0.44611821 -0.83895174 -0.04969047]\n",
      " [-0.69212003  0.11420321 -0.04969003]\n",
      " [-0.61011942 -0.52123343 -0.04969057]\n",
      " [ 0.20988666 -0.52123343 -0.04968942]\n",
      " [-0.52811881 -0.52123343 -0.04969037]\n",
      " [ 0.37388788  1.38507648 -0.04969063]\n",
      " [-0.44611821  0.11420321 -0.04968965]\n",
      " [-0.28211699 -0.52123343         nan]\n",
      " [-0.61011942 -0.83895174 -0.04969055]\n",
      " [-0.3641176  -1.12489823         nan]\n",
      " [ 2.75190554 -0.52123343 -0.04969082]\n",
      " [ 2.34190249  0.74963984         nan]\n",
      " [ 2.4239031   3.6091047  -0.04968975]\n",
      " [ 0.94789214 -0.52123343 -0.04968914]\n",
      " [-0.11811577 -0.20351511 -0.04969027]\n",
      " [-0.61011942 -0.52123343 -0.04968987]\n",
      " [-0.77412064  0.11420321         nan]\n",
      " [-0.28211699 -0.83895174         nan]\n",
      " [-0.85612125  0.43192153 -0.04969114]\n",
      " [-0.85612125 -0.20351511 -0.04969023]\n",
      " [-0.44611821 -0.20351511 -0.04969015]\n",
      " [ 1.27589458 -0.20351511 -0.0496893 ]\n",
      " [-0.77412064 -0.20351511 -0.04968987]\n",
      " [ 0.86589153  0.74963984 -0.04968938]\n",
      " [-0.28211699  0.11420321 -0.04969035]\n",
      " [-0.3641176   2.65594975 -0.04968967]\n",
      " [-0.52811881 -0.20351511 -0.04969051]\n",
      " [-0.93812186  1.70279479 -0.04969007]\n",
      " [-0.61011942  0.11420321 -0.04969128]\n",
      " [-0.52811881  0.11420321 -0.04969007]\n",
      " [ 0.45588849  1.38507648         nan]\n",
      " [-0.28211699 -0.52123343 -0.04969047]\n",
      " [ 0.61988971  1.06735816 -0.04969019]\n",
      " [-0.11811577 -0.68009258 -0.04968944]\n",
      " [ 3.07990797 -0.52123343 -0.04969021]\n",
      " [ 2.91590675 -0.52123343 -0.049691  ]\n",
      " [ 0.5378891   2.65594975 -0.04968886]\n",
      " [ 0.12788606 -0.20351511 -0.04969088]\n",
      " [-0.61011942  2.02051311 -0.04969067]\n",
      " [-0.61011942 -0.20351511         nan]\n",
      " [-0.3641176  -0.20351511         nan]\n",
      " [-0.69212003 -0.52123343 -0.04969136]\n",
      " [ 0.04588545 -0.20351511 -0.04968967]\n",
      " [-0.61011942 -0.20351511 -0.04968977]\n",
      " [-0.20011638 -0.52123343         nan]\n",
      " [ 4.47391832 -0.20351511 -0.04969043]\n",
      " [-0.93812186 -0.52123343 -0.04969132]\n",
      " [-0.93812186 -0.68009258 -0.04969007]\n",
      " [-0.52811881  1.38507648 -0.0496909 ]\n",
      " [-0.69212003 -0.83895174 -0.04969013]\n",
      " [-0.85612125 -0.20351511 -0.04969051]\n",
      " [-0.52811881  0.43192153 -0.04969051]\n",
      " [-0.69212003 -0.20351511 -0.0496908 ]\n",
      " [ 0.94789214  0.11420321 -0.04969094]\n",
      " [-0.61011942  2.02051311 -0.04969007]\n",
      " [-0.03611516 -0.52123343 -0.04968944]\n",
      " [-0.11811577  2.65594975 -0.04969015]\n",
      " [-0.44611821 -0.9978109  -0.04968987]\n",
      " [-0.28211699  0.11420321 -0.04969013]\n",
      " [ 1.19389397  0.74963984 -0.04969031]\n",
      " [ 2.25990188  0.11420321 -0.04968981]\n",
      " [ 1.5218964  -0.68009258 -0.0496909 ]\n",
      " [ 0.45588849 -0.52123343 -0.04968886]\n",
      " [-0.77412064 -0.52123343         nan]\n",
      " [-1.10212308 -0.9978109  -0.04969069]\n",
      " [ 0.04588545 -0.20351511 -0.04969108]\n",
      " [-0.03611516  0.11420321         nan]\n",
      " [-0.44611821 -0.52123343 -0.04968845]\n",
      " [-0.03611516 -0.52123343 -0.04968946]\n",
      " [-0.44611821 -0.83895174 -0.04969027]\n",
      " [-0.52811881  2.02051311 -0.04969067]\n",
      " [-0.52811881 -0.20351511 -0.04969108]\n",
      " [-0.28211699 -0.52123343         nan]\n",
      " [-0.69212003 -0.20351511 -0.04969027]\n",
      " [-0.20011638  0.43192153 -0.04969047]\n",
      " [-0.03611516 -0.9978109  -0.04969007]\n",
      " [-0.52811881 -0.52123343 -0.04968997]\n",
      " [ 0.37388788  0.74963984 -0.0496911 ]\n",
      " [-0.61011942 -0.52123343 -0.0496913 ]\n",
      " [-1.02012247 -0.20351511 -0.04969128]\n",
      " [-0.69212003 -0.52123343 -0.04969047]\n",
      " [-0.93812186  1.06735816 -0.04969067]\n",
      " [ 1.27589458  0.11420321 -0.04969168]\n",
      " [ 0.78389093 -0.83895174 -0.04969126]\n",
      " [-0.28211699  0.74963984 -0.04969162]\n",
      " [-0.20011638 -0.9978109  -0.04969067]\n",
      " [-0.44611821  2.65594975 -0.04969092]\n",
      " [-0.20011638 -0.83895174 -0.04968987]\n",
      " [ 0.61988971 -0.9978109  -0.04969128]\n",
      " [-0.77412064 -0.20351511 -0.04969047]\n",
      " [-0.44611821  0.43192153         nan]\n",
      " [ 2.50590371 -0.52123343 -0.04968845]\n",
      " [-0.61011942 -0.52123343 -0.04969128]\n",
      " [-0.77412064  0.11420321 -0.04968987]\n",
      " [-0.61011942 -0.83895174 -0.04968967]\n",
      " [ 2.58790432 -0.52123343         nan]\n",
      " [ 3.81791345  0.74963984 -0.04969134]\n",
      " [-0.44611821 -0.20351511 -0.04969088]\n",
      " [ 0.45588849 -0.52123343 -0.04969098]\n",
      " [-0.85612125 -0.52123343 -0.04969084]\n",
      " [-0.3641176  -0.52123343         nan]\n",
      " [-0.61011942  2.65594975 -0.04969035]\n",
      " [ 1.93189945 -0.83895174 -0.04969031]\n",
      " [-0.52811881 -0.20351511 -0.04969134]\n",
      " [-0.61011942  0.11420321 -0.04969102]\n",
      " [-0.93812186 -0.52123343 -0.04969059]\n",
      " [ 0.12788606  5.19769628         nan]\n",
      " [-0.77412064  0.11420321 -0.04969118]\n",
      " [ 1.35789519 -0.52123343         nan]\n",
      " [-0.52811881 -0.52123343 -0.04969047]\n",
      " [ 0.5378891  -0.52123343         nan]\n",
      " [-0.52811881  0.43192153 -0.04968971]\n",
      " [-0.3641176  -0.52123343 -0.04969094]\n",
      " [-0.52811881  0.43192153 -0.04968926]\n",
      " [-0.28211699 -0.20351511 -0.04968938]\n",
      " [ 1.35789519 -1.07724048 -0.04968987]\n",
      " [-0.77412064 -0.52123343         nan]\n",
      " [ 2.83390614 -0.52123343 -0.04969023]\n",
      " [-0.3641176  -0.83895174         nan]\n",
      " [-0.52811881  0.74963984 -0.04969039]\n",
      " [-0.20011638 -0.52123343         nan]\n",
      " [-0.85612125 -0.20351511 -0.0496912 ]\n",
      " [-0.69212003 -0.20351511 -0.04969047]\n",
      " [-0.69212003  0.43192153 -0.04969098]\n",
      " [-0.61011942  0.11420321 -0.04969023]\n",
      " [ 0.29188727 -0.83895174 -0.0496896 ]\n",
      " [ 0.5378891  -0.83895174 -0.04969047]\n",
      " [-0.28211699 -0.20351511         nan]\n",
      " [-0.85612125  0.11420321 -0.04969078]\n",
      " [-0.52811881 -0.83895174 -0.04968967]\n",
      " [ 0.29188727  0.11420321 -0.04969047]\n",
      " [ 0.12788606  2.02051311 -0.04968898]\n",
      " [-0.44611821 -0.52123343 -0.04969017]\n",
      " [-0.61011942 -0.52123343         nan]\n",
      " [-0.69212003  2.02051311 -0.04968987]\n",
      " [-0.03611516 -0.52123343 -0.04969031]\n",
      " [ 0.37388788  0.43192153 -0.04968967]\n",
      " [-0.85612125 -0.52123343 -0.04969078]\n",
      " [-0.69212003 -0.20351511 -0.04969047]\n",
      " [ 0.86589153 -0.52123343 -0.04969033]\n",
      " [-0.61011942  0.43192153         nan]\n",
      " [ 0.20988666  0.74963984 -0.04968999]\n",
      " [-0.61011942  0.11420321 -0.04969134]\n",
      " [-0.52811881 -0.20351511 -0.04968967]\n",
      " [-0.85612125  0.74963984 -0.04969094]\n",
      " [-0.61011942  0.74963984 -0.04969108]\n",
      " [ 0.5378891  -0.9978109          nan]\n",
      " [-0.77412064 -0.20351511 -0.04969088]]\n"
     ]
    }
   ],
   "source": [
    "#Continuous feature preprocessing\n",
    "from sklearn.preprocessing import StandardScaler\n",
    "std_ftrs = ['Age', 'Hours per day', 'BPM']\n",
    "scaler = StandardScaler()\n",
    "print(scaler.fit_transform(X_train[std_ftrs]))\n",
    "print(scaler.transform(X_val[std_ftrs]))\n",
    "print(scaler.transform(X_test[std_ftrs]))"
   ]
  },
  {
   "cell_type": "code",
   "execution_count": 66,
   "id": "49df4217-526b-41b6-b1bc-be20db3c757c",
   "metadata": {},
   "outputs": [
    {
     "data": {
      "text/plain": [
       "Frequency [Classical]\n",
       "Rarely             259\n",
       "Sometimes          200\n",
       "Never              169\n",
       "Very frequently    108\n",
       "Name: count, dtype: int64"
      ]
     },
     "execution_count": 66,
     "metadata": {},
     "output_type": "execute_result"
    }
   ],
   "source": [
    "pd.value_counts(df['Frequency [Classical]'])"
   ]
  },
  {
   "cell_type": "code",
   "execution_count": 83,
   "id": "8fffb87f-52b6-4262-9e93-e308b3dd24a7",
   "metadata": {},
   "outputs": [
    {
     "name": "stdout",
     "output_type": "stream",
     "text": [
      "data dimensions: (471, 41)\n",
      "fraction of missing values in features:\n",
      "Series([], dtype: float64)\n",
      "data types of the features with missing values:\n",
      "Series([], dtype: object)\n",
      "fraction of points with missing values: 0.0\n"
     ]
    }
   ],
   "source": [
    "#check missing value portion for Categorical Features after preprocessing\n",
    "catfeature_names = enc.get_feature_names_out()\n",
    "df_cattrain = pd.DataFrame(data=onehot_train,columns=catfeature_names)\n",
    "print('data dimensions:',df_cattrain.shape)\n",
    "perc_missing_per_ftr = df_cattrain.isnull().sum(axis=0)/df_cattrain.shape[0]\n",
    "print('fraction of missing values in features:')\n",
    "print(perc_missing_per_ftr[perc_missing_per_ftr > 0])\n",
    "print('data types of the features with missing values:')\n",
    "print(df_cattrain[perc_missing_per_ftr[perc_missing_per_ftr > 0].index].dtypes)\n",
    "frac_missing = sum(df_cattrain.isnull().sum(axis=1)!=0)/df_cattrain.shape[0]\n",
    "print('fraction of points with missing values:',frac_missing)"
   ]
  },
  {
   "cell_type": "code",
   "execution_count": 84,
   "id": "4f72758c-45f5-4bbd-a701-931e090e7533",
   "metadata": {},
   "outputs": [
    {
     "name": "stdout",
     "output_type": "stream",
     "text": [
      "data dimensions: (471, 19)\n",
      "fraction of missing values in features:\n",
      "Series([], dtype: float64)\n",
      "data types of the features with missing values:\n",
      "Series([], dtype: object)\n",
      "fraction of points with missing values: 0.0\n"
     ]
    }
   ],
   "source": [
    "#check missing value portion for Ordinal Features after preprocessing\n",
    "ordfeature_names = enc_o.get_feature_names_out()\n",
    "df_ordtrain = pd.DataFrame(data=ordinal_train,columns=ordfeature_names)\n",
    "print('data dimensions:',df_ordtrain.shape)\n",
    "perc_missing_per_ftr = df_ordtrain.isnull().sum(axis=0)/df_ordtrain.shape[0]\n",
    "print('fraction of missing values in features:')\n",
    "print(perc_missing_per_ftr[perc_missing_per_ftr > 0])\n",
    "print('data types of the features with missing values:')\n",
    "print(df_ordtrain[perc_missing_per_ftr[perc_missing_per_ftr > 0].index].dtypes)\n",
    "frac_missing = sum(df_ordtrain.isnull().sum(axis=1)!=0)/df_ordtrain.shape[0]\n",
    "print('fraction of points with missing values:',frac_missing)"
   ]
  },
  {
   "cell_type": "markdown",
   "id": "1aba77eb-9999-475a-a43a-f796de93ce6c",
   "metadata": {},
   "source": [
    "- We can see that after preprocessing, the missing values fraction is 0 for both categorical and ordinal features"
   ]
  },
  {
   "cell_type": "markdown",
   "id": "1054aaee-b8f4-4026-aabd-453c40a24fd2",
   "metadata": {},
   "source": [
    "**Correlation**"
   ]
  },
  {
   "cell_type": "code",
   "execution_count": null,
   "id": "f2d47867-fdcd-4b1a-95e1-cbf15451f20e",
   "metadata": {},
   "outputs": [],
   "source": [
    "#Calculate how strong the linear correlation is between each feature and the target variable (disease progression). \n",
    "#Prepare a bar plot that shows the top 5 most important features.\n",
    "import numpy as np\n",
    "import matplotlib.pyplot as plt\n",
    "from sklearn.feature_selection import f_regression, mutual_info_regression\n",
    "np.random.seed(10)\n",
    "\n",
    "y = df['Anxiety'] \n",
    "X = df.loc[:, df.columns != 'Anxiety'] \n",
    "\n",
    "#linear\n",
    "f_test, p_values = f_regression(X, y)\n",
    "print('f score',f_test)\n",
    "print('p values',p_values)\n",
    "#non-linear\n",
    "mi = mutual_info_regression(X, y)\n",
    "print('mi',mi)\n",
    "#sorted(f_test) --> larger, more correlated\n",
    "#sorted(p_values, reverse = True) --> smaller, more correlated\n",
    "#mi --> larger, more correlated"
   ]
  },
  {
   "cell_type": "code",
   "execution_count": null,
   "id": "b0cb0222-ff7e-452c-b72b-05f58c06d98e",
   "metadata": {},
   "outputs": [],
   "source": [
    "#Calculate the non-linear correlations with the target variable.\n",
    "#Plot the top 5 most important features."
   ]
  },
  {
   "cell_type": "code",
   "execution_count": null,
   "id": "c78404a3-e195-4805-b10b-16fb97028063",
   "metadata": {},
   "outputs": [],
   "source": [
    "#Prepare a plot which shows the most important feature vs. the target variable!\n"
   ]
  },
  {
   "cell_type": "code",
   "execution_count": null,
   "id": "1e7cc85b-ea55-4072-8cb5-7ea442eeeb34",
   "metadata": {},
   "outputs": [],
   "source": [
    "#Using the feature matrix of the diabetes dataset, calculate the Pearson correlation matrix of the features (see method here) \n",
    "#and visualize the correlation matrix as a heatmap. \n",
    "#Make sure that the feature names are on the x and y axes, add a colorbar to indicate the strength of the correlation. \n",
    "#Note that the Pearson correlation coefficient is between -1 and 1 so make sure the color scale is between -1 and 1 on the figure.\n",
    "\n",
    "#Find out the two features having the strongest correlation. Is there a need to potentially remove any of the features?\n"
   ]
  },
  {
   "cell_type": "code",
   "execution_count": 87,
   "id": "b8d5f8d5-1ca1-4d31-9ece-bbb3352d6ac1",
   "metadata": {},
   "outputs": [
    {
     "data": {
      "text/plain": [
       "'/Users/apple/Desktop/1030_sem_project'"
      ]
     },
     "execution_count": 87,
     "metadata": {},
     "output_type": "execute_result"
    }
   ],
   "source": [
    "pwd"
   ]
  },
  {
   "cell_type": "code",
   "execution_count": null,
   "id": "8a92e78d-d642-4bbc-824a-298004b189bc",
   "metadata": {},
   "outputs": [],
   "source": []
  }
 ],
 "metadata": {
  "kernelspec": {
   "display_name": "Python 3 (ipykernel)",
   "language": "python",
   "name": "python3"
  },
  "language_info": {
   "codemirror_mode": {
    "name": "ipython",
    "version": 3
   },
   "file_extension": ".py",
   "mimetype": "text/x-python",
   "name": "python",
   "nbconvert_exporter": "python",
   "pygments_lexer": "ipython3",
   "version": "3.11.4"
  }
 },
 "nbformat": 4,
 "nbformat_minor": 5
}
